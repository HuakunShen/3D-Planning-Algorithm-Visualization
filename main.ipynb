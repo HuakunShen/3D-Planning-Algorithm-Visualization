{
 "cells": [
  {
   "cell_type": "code",
   "execution_count": 24,
   "metadata": {},
   "outputs": [],
   "source": [
    "import os\n",
    "import sys\n",
    "import numpy as np\n",
    "import pandas as pd\n",
    "import seaborn as sns\n",
    "from tqdm import tqdm\n",
    "import matplotlib.pyplot as plt\n",
    "from typing import List, Type\n",
    "from planning.map.type import Coor\n",
    "from planning.map import BuildingMap, BuildingMapGenConfig\n",
    "from planning.scenarios import ScenarioConfig, Scenario, ScenarioSize\n",
    "from planning.map.util import manhattan_distance, euclidean_distance, clip\n",
    "from planning.planner import AStarPlanner, DijkstraPlanner, DFSPlanner, RRTPlanner, RRTStarPlanner, Planner\n",
    "from planning.experiment import run_planner"
   ]
  },
  {
   "cell_type": "code",
   "execution_count": null,
   "metadata": {},
   "outputs": [],
   "source": [
    "sns.set_style(\"darkgrid\")"
   ]
  },
  {
   "attachments": {},
   "cell_type": "markdown",
   "metadata": {},
   "source": [
    "# Benchmark"
   ]
  },
  {
   "cell_type": "code",
   "execution_count": 21,
   "metadata": {},
   "outputs": [],
   "source": [
    "def run_seeds(n_seed: int, scenario_size: ScenarioSize):\n",
    "    benchmark_results = []\n",
    "    pbar = tqdm(total=n_seed * 5)\n",
    "    for seed in range(n_seed):\n",
    "        bmap, src, target = Scenario.get(seed, scenario_size)\n",
    "        astar_planner = AStarPlanner(bmap)\n",
    "        dijkstra_planner = DijkstraPlanner(bmap)\n",
    "        dfs_planner = DFSPlanner(bmap)\n",
    "        # RRT specific\n",
    "        max_streering_radius = clip(bmap.shape[0] // 20, 2, 10)\n",
    "        destination_reached_radius = clip(bmap.shape[0] // 25, 5, 8)\n",
    "        neighbor_radius = clip(bmap.shape[0]//25, 5, 8)\n",
    "        rrt_max_step = bmap.shape[0] * 50\n",
    "        rrt_planner = RRTPlanner(bmap, max_streering_radius = max_streering_radius, max_steps = rrt_max_step, destination_reached_radius = destination_reached_radius)\n",
    "        rrt_star_planner = RRTStarPlanner(bmap, max_streering_radius = max_streering_radius, max_steps = rrt_max_step, \n",
    "                                            destination_reached_radius = destination_reached_radius, neighbor_radius = neighbor_radius, quit_early = False)\n",
    "        for planner in [astar_planner, dijkstra_planner, dfs_planner, rrt_planner, rrt_star_planner]:\n",
    "            pbar.set_postfix({\"seed\": seed, \"planner\": planner.__class__.__name__})\n",
    "            benchmark_results.append(run_planner(bmap, planner, src, target, seed))\n",
    "            pbar.update()\n",
    "    return pd.DataFrame(benchmark_results)\n"
   ]
  },
  {
   "attachments": {},
   "cell_type": "markdown",
   "metadata": {},
   "source": [
    "## Small Map"
   ]
  },
  {
   "cell_type": "code",
   "execution_count": 5,
   "metadata": {},
   "outputs": [
    {
     "name": "stderr",
     "output_type": "stream",
     "text": [
      "100%|██████████| 25/25 [00:01<00:00, 23.14it/s, seed=4, planner=RRTStarPlanner]\n",
      "100%|██████████| 25/25 [00:28<00:00,  1.13s/it, seed=4, planner=RRTStarPlanner]\n",
      "100%|██████████| 25/25 [01:18<00:00,  3.14s/it, seed=4, planner=RRTStarPlanner]\n"
     ]
    }
   ],
   "source": [
    "xs_df = run_seeds(5, scenario_size=ScenarioSize.XS)\n",
    "s_df = run_seeds(5, scenario_size=ScenarioSize.S)\n",
    "m_df = run_seeds(5, scenario_size=ScenarioSize.M)"
   ]
  },
  {
   "attachments": {},
   "cell_type": "markdown",
   "metadata": {},
   "source": [
    "# Time Complexity Growth"
   ]
  },
  {
   "cell_type": "code",
   "execution_count": 23,
   "metadata": {},
   "outputs": [
    {
     "name": "stderr",
     "output_type": "stream",
     "text": [
      "100%|██████████| 30/30 [02:05<00:00,  4.20s/it, Seed=4, Size=100]\n",
      "100%|██████████| 30/30 [12:06<00:00, 24.20s/it, Seed=4, Size=100]\n",
      "100%|██████████| 30/30 [01:18<00:00,  2.63s/it, Seed=4, Size=100]\n",
      "100%|██████████| 30/30 [00:02<00:00, 13.26it/s, Seed=4, Size=100]\n"
     ]
    }
   ],
   "source": [
    "def time_planner(n_seed: int, sizes: List[int], planner_class: Type[Planner]):\n",
    "    result = []\n",
    "    pbar = tqdm(total=n_seed * len(sizes))\n",
    "    for seed in range(n_seed):\n",
    "        np.random.seed(n_seed)\n",
    "        for size in sizes:\n",
    "            pbar.set_postfix({\"Seed\": seed, \"Size\": size})\n",
    "            config = BuildingMapGenConfig(width1=size, width2=size, height=size, n_building=size // 2,\n",
    "                                          min_building_size=size // 4,\n",
    "                                          max_building_size=size // 2, max_building_height=size,\n",
    "                                          sample_point_max_height=2)\n",
    "            bmap, src, target = Scenario.get_with_config(config)\n",
    "            planner = planner_class(bmap)\n",
    "            solved, visited, path = planner.plan(src, target)\n",
    "            result.append(run_planner(bmap, planner, src, target, seed))\n",
    "            pbar.update()\n",
    "    return pd.DataFrame(result)\n",
    "\n",
    "sizes = [10, 20, 40, 60, 80, 100]\n",
    "astar_time_df = time_planner(5, sizes=sizes, planner_class=AStarPlanner)\n",
    "dijkstra_time_df = time_planner(5, sizes=sizes, planner_class=DijkstraPlanner)\n",
    "dfs_time_df = time_planner(5, sizes=sizes, planner_class=DFSPlanner)\n",
    "rrt_time_df = time_planner(5, sizes=sizes, planner_class=RRTPlanner)\n"
   ]
  },
  {
   "cell_type": "code",
   "execution_count": 29,
   "metadata": {},
   "outputs": [
    {
     "data": {
      "text/plain": [
       "Text(0, 0.5, 'Time Taken (s)')"
      ]
     },
     "execution_count": 29,
     "metadata": {},
     "output_type": "execute_result"
    },
    {
     "data": {
      "image/png": "[encoded data removed]",
      "text/plain": [
       "<Figure size 432x288 with 1 Axes>"
      ]
     },
     "metadata": {
      "needs_background": "light"
     },
     "output_type": "display_data"
    }
   ],
   "source": [
    "agg = astar_time_df.groupby(by=\"size\").mean()\n",
    "ax = sns.lineplot(data=agg, x=\"width\", y=\"time_taken\").set_title(\"A* Time\")\n",
    "plt.xlabel(\"Map Size\")\n",
    "plt.ylabel(\"Time Taken (s)\")"
   ]
  },
  {
   "cell_type": "code",
   "execution_count": 30,
   "metadata": {},
   "outputs": [
    {
     "data": {
      "text/plain": [
       "Text(0, 0.5, 'Time Taken (s)')"
      ]
     },
     "execution_count": 30,
     "metadata": {},
     "output_type": "execute_result"
    },
    {
     "data": {
      "image/png": "[encoded data removed]",
      "text/plain": [
       "<Figure size 432x288 with 1 Axes>"
      ]
     },
     "metadata": {
      "needs_background": "light"
     },
     "output_type": "display_data"
    }
   ],
   "source": [
    "agg = dijkstra_time_df.groupby(by=\"size\").mean()\n",
    "ax = sns.lineplot(data=agg, x=\"width\", y=\"time_taken\").set_title(\"Dijkstra Time\")\n",
    "plt.xlabel(\"Map Size\")\n",
    "plt.ylabel(\"Time Taken (s)\")"
   ]
  },
  {
   "cell_type": "code",
   "execution_count": 31,
   "metadata": {},
   "outputs": [
    {
     "data": {
      "text/plain": [
       "Text(0, 0.5, 'Time Taken (s)')"
      ]
     },
     "execution_count": 31,
     "metadata": {},
     "output_type": "execute_result"
    },
    {
     "data": {
      "image/png": "[encoded data removed]",
      "text/plain": [
       "<Figure size 432x288 with 1 Axes>"
      ]
     },
     "metadata": {
      "needs_background": "light"
     },
     "output_type": "display_data"
    }
   ],
   "source": [
    "agg = dfs_time_df.groupby(by=\"size\").mean()\n",
    "ax = sns.lineplot(data=agg, x=\"width\", y=\"time_taken\").set_title(\"DFS Time\")\n",
    "plt.xlabel(\"Map Size\")\n",
    "plt.ylabel(\"Time Taken (s)\")"
   ]
  },
  {
   "cell_type": "code",
   "execution_count": 32,
   "metadata": {},
   "outputs": [
    {
     "data": {
      "text/plain": [
       "Text(0, 0.5, 'Time Taken (s)')"
      ]
     },
     "execution_count": 32,
     "metadata": {},
     "output_type": "execute_result"
    },
    {
     "data": {
      "image/png": "[encoded data removed]",
      "text/plain": [
       "<Figure size 432x288 with 1 Axes>"
      ]
     },
     "metadata": {
      "needs_background": "light"
     },
     "output_type": "display_data"
    }
   ],
   "source": [
    "agg = rrt_time_df.groupby(by=\"size\").mean()\n",
    "ax = sns.lineplot(data=agg, x=\"width\", y=\"time_taken\").set_title(\"RRT Time\")\n",
    "plt.xlabel(\"Map Size\")\n",
    "plt.ylabel(\"Time Taken (s)\")"
   ]
  },
  {
   "cell_type": "code",
   "execution_count": 22,
   "metadata": {},
   "outputs": [
    {
     "ename": "KeyboardInterrupt",
     "evalue": "",
     "output_type": "error",
     "traceback": [
      "\u001b[0;31m---------------------------------------------------------------------------\u001b[0m",
      "\u001b[0;31mKeyboardInterrupt\u001b[0m                         Traceback (most recent call last)",
      "\u001b[1;32m/Users/huakun/Documents/UT/CSC2630/CSC2630-Project/main.ipynb Cell 10\u001b[0m in \u001b[0;36m<cell line: 3>\u001b[0;34m()\u001b[0m\n\u001b[1;32m      <a href='vscode-notebook-cell:/Users/huakun/Documents/UT/CSC2630/CSC2630-Project/main.ipynb#X14sZmlsZQ%3D%3D?line=0'>1</a>\u001b[0m bmap, src, target \u001b[39m=\u001b[39m Scenario\u001b[39m.\u001b[39mget(\u001b[39m0\u001b[39m, ScenarioSize\u001b[39m.\u001b[39mL)\n\u001b[1;32m      <a href='vscode-notebook-cell:/Users/huakun/Documents/UT/CSC2630/CSC2630-Project/main.ipynb#X14sZmlsZQ%3D%3D?line=1'>2</a>\u001b[0m rrt_planner \u001b[39m=\u001b[39m RRTStarPlanner(bmap, max_steps\u001b[39m=\u001b[39m\u001b[39m5000\u001b[39m)\n\u001b[0;32m----> <a href='vscode-notebook-cell:/Users/huakun/Documents/UT/CSC2630/CSC2630-Project/main.ipynb#X14sZmlsZQ%3D%3D?line=2'>3</a>\u001b[0m solved, visited, path \u001b[39m=\u001b[39m rrt_planner\u001b[39m.\u001b[39;49mplan(src, target)\n\u001b[1;32m      <a href='vscode-notebook-cell:/Users/huakun/Documents/UT/CSC2630/CSC2630-Project/main.ipynb#X14sZmlsZQ%3D%3D?line=3'>4</a>\u001b[0m solved\n",
      "File \u001b[0;32m~/Documents/UT/CSC2630/CSC2630-Project/planning/planner/planner.py:27\u001b[0m, in \u001b[0;36mPlanner.plan\u001b[0;34m(self, src, target)\u001b[0m\n\u001b[1;32m     25\u001b[0m \u001b[39mdef\u001b[39;00m \u001b[39mplan\u001b[39m(\u001b[39mself\u001b[39m, src: Coor, target: Coor) \u001b[39m-\u001b[39m\u001b[39m>\u001b[39m Tuple[\u001b[39mbool\u001b[39m, List, List[Coor]]:\n\u001b[1;32m     26\u001b[0m     start \u001b[39m=\u001b[39m time\u001b[39m.\u001b[39mtime()\n\u001b[0;32m---> 27\u001b[0m     result \u001b[39m=\u001b[39m \u001b[39mself\u001b[39;49m\u001b[39m.\u001b[39;49mplan_impl(src, target)\n\u001b[1;32m     28\u001b[0m     \u001b[39mself\u001b[39m\u001b[39m.\u001b[39mtime_taken \u001b[39m=\u001b[39m time\u001b[39m.\u001b[39mtime() \u001b[39m-\u001b[39m start\n\u001b[1;32m     29\u001b[0m     \u001b[39mreturn\u001b[39;00m result\n",
      "File \u001b[0;32m~/Documents/UT/CSC2630/CSC2630-Project/planning/planner/rrt_star.py:55\u001b[0m, in \u001b[0;36mRRTStarPlanner.plan_impl\u001b[0;34m(self, src, target)\u001b[0m\n\u001b[1;32m     50\u001b[0m neighbors \u001b[39m=\u001b[39m [node \u001b[39mfor\u001b[39;00m node \u001b[39min\u001b[39;00m tree_nodes \u001b[39mif\u001b[39;00m euclidean_distance(node, x_new) \u001b[39m<\u001b[39m \u001b[39mself\u001b[39m\u001b[39m.\u001b[39mneighbor_radius]\n\u001b[1;32m     51\u001b[0m \u001b[39mfor\u001b[39;00m x_near \u001b[39min\u001b[39;00m neighbors:\n\u001b[1;32m     52\u001b[0m     \u001b[39m# if x_near == x_min:\u001b[39;00m\n\u001b[1;32m     53\u001b[0m     \u001b[39m#     continue\u001b[39;00m\n\u001b[1;32m     54\u001b[0m     \u001b[39m# find a neighboring node with even lower cost to x_new, similar to A*\u001b[39;00m\n\u001b[0;32m---> 55\u001b[0m     \u001b[39mif\u001b[39;00m \u001b[39mself\u001b[39;49m\u001b[39m.\u001b[39;49mpath_is_obstacle_free(x_near, x_new):\n\u001b[1;32m     56\u001b[0m         tentative_cost \u001b[39m=\u001b[39m cost[x_near] \u001b[39m+\u001b[39m \u001b[39mself\u001b[39m\u001b[39m.\u001b[39mcost(x_near, x_new)\n\u001b[1;32m     57\u001b[0m         \u001b[39mif\u001b[39;00m tentative_cost \u001b[39m<\u001b[39m cost[x_new]:\n",
      "File \u001b[0;32m~/Documents/UT/CSC2630/CSC2630-Project/planning/planner/rrt.py:77\u001b[0m, in \u001b[0;36mRRTPlanner.path_is_obstacle_free\u001b[0;34m(self, s_from, s_to)\u001b[0m\n\u001b[1;32m     75\u001b[0m \u001b[39mfor\u001b[39;00m i \u001b[39min\u001b[39;00m \u001b[39mrange\u001b[39m(\u001b[39m1\u001b[39m, \u001b[39mself\u001b[39m\u001b[39m.\u001b[39mmax_checks):\n\u001b[1;32m     76\u001b[0m     distance \u001b[39m=\u001b[39m \u001b[39mfloat\u001b[39m(i) \u001b[39m/\u001b[39m \u001b[39mself\u001b[39m\u001b[39m.\u001b[39mmax_checks \u001b[39m*\u001b[39m \u001b[39mself\u001b[39m\u001b[39m.\u001b[39mcost(s_from, s_to)\n\u001b[0;32m---> 77\u001b[0m     s_new \u001b[39m=\u001b[39m steer_algorithm(s_from, s_to, distance)\n\u001b[1;32m     78\u001b[0m     \u001b[39mif\u001b[39;00m \u001b[39mnot\u001b[39;00m \u001b[39mself\u001b[39m\u001b[39m.\u001b[39mis_free(s_new):\n\u001b[1;32m     79\u001b[0m         \u001b[39mreturn\u001b[39;00m \u001b[39mFalse\u001b[39;00m\n",
      "File \u001b[0;32m~/Documents/UT/CSC2630/CSC2630-Project/planning/planner/rrt.py:25\u001b[0m, in \u001b[0;36msteer_algorithm\u001b[0;34m(s_from, s_to, max_radius)\u001b[0m\n\u001b[1;32m     24\u001b[0m \u001b[39mdef\u001b[39;00m \u001b[39msteer_algorithm\u001b[39m(s_from: Coor, s_to: Coor, max_radius: \u001b[39mfloat\u001b[39m) \u001b[39m-\u001b[39m\u001b[39m>\u001b[39m Coor:\n\u001b[0;32m---> 25\u001b[0m     s_from \u001b[39m=\u001b[39m np\u001b[39m.\u001b[39;49marray(s_from)\n\u001b[1;32m     26\u001b[0m     s_to \u001b[39m=\u001b[39m np\u001b[39m.\u001b[39marray(s_to)\n\u001b[1;32m     27\u001b[0m     direction \u001b[39m=\u001b[39m s_to \u001b[39m-\u001b[39m s_from\n",
      "\u001b[0;31mKeyboardInterrupt\u001b[0m: "
     ]
    }
   ],
   "source": [
    "bmap, src, target = Scenario.get(0, ScenarioSize.L)\n",
    "rrt_planner = RRTStarPlanner(bmap, max_steps=5000)\n",
    "solved, visited, path = rrt_planner.plan(src, target)\n",
    "solved"
   ]
  },
  {
   "cell_type": "code",
   "execution_count": null,
   "metadata": {},
   "outputs": [],
   "source": []
  },
  {
   "cell_type": "code",
   "execution_count": null,
   "metadata": {},
   "outputs": [],
   "source": []
  },
  {
   "cell_type": "code",
   "execution_count": null,
   "metadata": {},
   "outputs": [],
   "source": []
  },
  {
   "cell_type": "code",
   "execution_count": null,
   "metadata": {},
   "outputs": [],
   "source": []
  },
  {
   "cell_type": "code",
   "execution_count": null,
   "metadata": {},
   "outputs": [],
   "source": []
  }
 ],
 "metadata": {
  "kernelspec": {
   "display_name": "AI",
   "language": "python",
   "name": "python3"
  },
  "language_info": {
   "codemirror_mode": {
    "name": "ipython",
    "version": 3
   },
   "file_extension": ".py",
   "mimetype": "text/x-python",
   "name": "python",
   "nbconvert_exporter": "python",
   "pygments_lexer": "ipython3",
   "version": "3.10.4"
  },
  "orig_nbformat": 4,
  "vscode": {
   "interpreter": {
    "hash": "ebecee086e92df05926864f7d17cd53d23b7a17d7461a1b0507bfa7703041907"
   }
  }
 },
 "nbformat": 4,
 "nbformat_minor": 2
}
